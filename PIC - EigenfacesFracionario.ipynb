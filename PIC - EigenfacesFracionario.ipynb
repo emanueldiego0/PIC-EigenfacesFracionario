{
 "cells": [
  {
   "cell_type": "code",
   "execution_count": 3,
   "metadata": {},
   "outputs": [],
   "source": [
    "import os\n",
    "import glob\n",
    "import imageio\n",
    "import numpy as np\n",
    "import matplotlib.pyplot as plt\n",
    "import cv2\n",
    "from sklearn.neighbors import KNeighborsClassifier\n",
    "from sklearn.model_selection import train_test_split\n",
    "\n",
    "%matplotlib inline\n",
    "\n",
    "HOLDOUT = 10\n",
    "R = 0.01"
   ]
  },
  {
   "cell_type": "code",
   "execution_count": 8,
   "metadata": {},
   "outputs": [
    {
     "data": {
      "text/plain": [
       "'C:\\\\Users\\\\USUARIO\\\\Desktop\\\\eigenfaces\\\\PIC-EigenfacesFracionario'"
      ]
     },
     "execution_count": 8,
     "metadata": {},
     "output_type": "execute_result"
    }
   ],
   "source": [
    "os.chdir(\"C:\\\\Users\\\\USUARIO\\\\Desktop\\\\eigenfaces\\\\PIC-EigenfacesFracionario\\\\\")\n",
    "os.getcwd()"
   ]
  },
  {
   "cell_type": "code",
   "execution_count": 13,
   "metadata": {},
   "outputs": [],
   "source": [
    "def CarregarYaleFaces():\n",
    "    files = glob.glob(\"databases/yalefaces/*\")\n",
    "    images_yale = [np.array(imageio.mimread(file))[0] for file in files]\n",
    "    images_yale_resized = [cv2.resize(image, dsize=(28, 23), interpolation=cv2.INTER_CUBIC) for image in images_yale]\n",
    "    images_yale_resized = np.array(images_yale_resized)\n",
    "    images_yale_flatten = [image.flatten() for image in images_yale_resized]\n",
    "    images_yale_flatten = np.array(images_yale_flatten)\n",
    "    print('#Amostras (n): '+str(images_yale_flatten.shape[0]))\n",
    "    print('#Features (m): '+str(images_yale_flatten.shape[1]))\n",
    "    Y = [f.split('.')[0] for f in files]\n",
    "    return images_yale_flatten, Y"
   ]
  },
  {
   "cell_type": "code",
   "execution_count": 14,
   "metadata": {},
   "outputs": [],
   "source": [
    "def FPCA(X, r, k):\n",
    "    X = [np.power(x, r) for x in X]\n",
    "    X = np.array(X)\n",
    "    mean_vector = np.mean(X.T, axis = 1)                #cria o vetor medio\n",
    "    mean_vector = np.power(mean_vector, r)\n",
    "    centered_matrix = X - mean_vector                   #cria a matriz de diferencas entre os data points e o vetor medio\n",
    "    centered_matrix = centered_matrix.astype(None)\n",
    "    #cov_matrix = np.cov(centered_matrix.T)              #matriz de covariancia\n",
    "    cov_matrix = centered_matrix.T.dot(centered_matrix)              #matriz de covariancia\n",
    "    #print('cov_matrix shape: '+str(cov_matrix.shape))\n",
    "    values, vectors = np.linalg.eig(cov_matrix)         #autovalores e autovetores\n",
    "    return np.real(vectors.T.dot(centered_matrix.T).T)[:,:k]"
   ]
  },
  {
   "cell_type": "code",
   "execution_count": 29,
   "metadata": {},
   "outputs": [],
   "source": [
    "def Eigenfaces2(X, k):\n",
    "    n = len(X)\n",
    "    mean_vector = np.mean(X, axis = 0)\n",
    "    centered_matrix = X - mean_vector\n",
    "    centered_matrix = centered_matrix.astype(None)\n",
    "    D = centered_matrix.dot(centered_matrix.T)              #matriz de covariancia\n",
    "    escalar = 1. / n\n",
    "    D = escalar * D\n",
    "    values_d, vectors_d = np.linalg.eig(D)\n",
    "    vectors_c_ = (1. / np.power(n * values_d,0.5)) *  centered_matrix.T.dot(vectors_d)   #eq 7\n",
    "    np.real(vectors_c_)\n",
    "    return np.real(vectors_c_.T.dot(centered_matrix.T).T)[:,:k]"
   ]
  },
  {
   "cell_type": "code",
   "execution_count": 30,
   "metadata": {},
   "outputs": [],
   "source": [
    "def Eigenfaces(X, k):\n",
    "    mean_vector = np.mean(X.T, axis = 1)                #cria o vetor medio\n",
    "    centered_matrix = X - mean_vector                   #cria a matriz de diferencas entre os data points e o vetor medio\n",
    "    centered_matrix = centered_matrix.astype(None)\n",
    "    cov_matrix = centered_matrix.dot(centered_matrix.T)              #matriz de covariancia\n",
    "    #print('cov_matrix eigenfaces shape: '+str(cov_matrix.shape))\n",
    "    values, vectors = np.linalg.eig(cov_matrix)         #autovalores e autovetores\n",
    "    #print('values: '+str(values.shape))\n",
    "    #print('vectors: '+str(vectors.shape))\n",
    "    #print('vector'+str(vectors[:,0].shape))\n",
    "    vectors_ = []\n",
    "    '''\n",
    "    for i in range(vectors.shape[0]):\n",
    "        N = vectors.shape[0]\n",
    "        a = 1 / np.power((N * values[i]),0.5)\n",
    "        #b = X[i] - mean_vector\n",
    "        #print(X[i].shape)\n",
    "        #print(mean_vector.shape)\n",
    "        #print('centered_matrix:'+str(centered_matrix.shape))\n",
    "        #print(vectors[:,i].shape)\n",
    "        vectors_.append(a * centered_matrix.dot(vectors[:,i]))\n",
    "    '''\n",
    "    N = vectors.shape[0]\n",
    "    a = 1 / np.power((N * values),0.5)\n",
    "    vectors_ = a * centered_matrix.T.dot(vectors)\n",
    "    vectors_ = np.array(vectors_)\n",
    "    #print(vectors.shape)\n",
    "    #print(vectors_.shape)\n",
    "    return np.real(vectors_.T.dot(centered_matrix.T).T)[:,:k]"
   ]
  },
  {
   "cell_type": "code",
   "execution_count": 31,
   "metadata": {},
   "outputs": [],
   "source": [
    "def F_Eigenfaces(X, r, k):\n",
    "    X = [np.power(x, r) for x in X]\n",
    "    X = np.array(X)\n",
    "    mean_vector = np.mean(X.T, axis = 1)                #cria o vetor medio\n",
    "    mean_vector = np.power(mean_vector, r)\n",
    "    centered_matrix = X - mean_vector                   #cria a matriz de diferencas entre os data points e o vetor medio\n",
    "    centered_matrix = centered_matrix.astype(None)\n",
    "    cov_matrix = centered_matrix.dot(centered_matrix.T)              #matriz de covariancia\n",
    "    #print('cov_matrix eigenfaces shape: '+str(cov_matrix.shape))\n",
    "    values, vectors = np.linalg.eig(cov_matrix)         #autovalores e autovetores\n",
    "    #print('values: '+str(values.shape))\n",
    "    #print('vectors: '+str(vectors.shape))\n",
    "    #print('vector'+str(vectors[:,0].shape))\n",
    "    vectors_ = []\n",
    "    '''\n",
    "    for i in range(vectors.shape[0]):\n",
    "        N = vectors.shape[0]\n",
    "        a = 1 / np.power((N * values[i]),0.5)\n",
    "        #b = X[i] - mean_vector\n",
    "        #print(X[i].shape)\n",
    "        #print(mean_vector.shape)\n",
    "        #print('centered_matrix:'+str(centered_matrix.shape))\n",
    "        #print(vectors[:,i].shape)\n",
    "        vectors_.append(a * centered_matrix.dot(vectors[:,i]))\n",
    "    '''\n",
    "    N = vectors.shape[0]\n",
    "    a = 1 / np.power((N * values),0.5)\n",
    "    vectors_ = a * centered_matrix.T.dot(vectors)\n",
    "    vectors_ = np.array(vectors_)\n",
    "    #print(vectors.shape)\n",
    "    #print(vectors_.shape)\n",
    "    return np.real(vectors_.T.dot(centered_matrix.T).T)[:,:k]"
   ]
  },
  {
   "cell_type": "code",
   "execution_count": 32,
   "metadata": {},
   "outputs": [],
   "source": [
    "def AvaliarClassificadores(X, Y):\n",
    "    scores_1nn = []\n",
    "    \n",
    "    for i in range(HOLDOUT):\n",
    "        X_train, X_test, y_train, y_test = train_test_split(X, Y, test_size=0.5, random_state=0)\n",
    "        clf_1nn = KNeighborsClassifier(n_neighbors=1).fit(X_train, y_train)\n",
    "        scores_1nn.append(clf_1nn.score(X_test, y_test))\n",
    "\n",
    "    scores_1nn = np.array(scores_1nn).mean() * 100\n",
    "    return scores_1nn"
   ]
  },
  {
   "cell_type": "code",
   "execution_count": 33,
   "metadata": {},
   "outputs": [
    {
     "name": "stdout",
     "output_type": "stream",
     "text": [
      "#Amostras (n): 165\n",
      "#Features (m): 644\n"
     ]
    }
   ],
   "source": [
    "images_yale, Y = CarregarYaleFaces()\n",
    "acc_yale = []\n",
    "acc_att = []\n",
    "acc_sheffield = []\n",
    "for n in range(1, 71):\n",
    "    X_fpca = FPCA(images_yale, R, n)\n",
    "    X_eige = Eigenfaces2(images_yale, n)\n",
    "    X_feig = F_Eigenfaces(images_yale, R, n)\n",
    "    s_fpca = AvaliarClassificadores(X_fpca, Y)\n",
    "    s_eige = AvaliarClassificadores(X_eige, Y)\n",
    "    s_feig = AvaliarClassificadores(X_feig, Y)\n",
    "    acc_yale.append([s_fpca,s_eige,s_feig])\n",
    "acc_yale = np.array(acc_yale)"
   ]
  },
  {
   "cell_type": "code",
   "execution_count": 34,
   "metadata": {},
   "outputs": [
    {
     "data": {
      "image/png": "[encoded data removed]",
      "text/plain": [
       "<Figure size 432x288 with 1 Axes>"
      ]
     },
     "metadata": {},
     "output_type": "display_data"
    }
   ],
   "source": [
    "x = np.arange(1, 71)\n",
    "#plt.figure(figsize=(20,15))\n",
    "plt.title(\"Dataset: Yale Faces - Classifier: 1-NN\")\n",
    "plt.plot(x, acc_yale[:,0], color='red')\n",
    "plt.plot(x, acc_yale[:,1], color='blue')\n",
    "plt.plot(x, acc_yale[:,2], color='yellow')\n",
    "plt.ylabel('Acuracia media')\n",
    "plt.xlabel('Numero de componentes')\n",
    "plt.legend(labels=['FPCA','Eigenfaces','F Eigenfaces'])\n",
    "plt.grid()\n",
    "plt.show()"
   ]
  },
  {
   "cell_type": "code",
   "execution_count": null,
   "metadata": {},
   "outputs": [],
   "source": []
  }
 ],
 "metadata": {
  "kernelspec": {
   "display_name": "Python 3",
   "language": "python",
   "name": "python3"
  },
  "language_info": {
   "codemirror_mode": {
    "name": "ipython",
    "version": 3
   },
   "file_extension": ".py",
   "mimetype": "text/x-python",
   "name": "python",
   "nbconvert_exporter": "python",
   "pygments_lexer": "ipython3",
   "version": "3.6.5"
  }
 },
 "nbformat": 4,
 "nbformat_minor": 2
}
