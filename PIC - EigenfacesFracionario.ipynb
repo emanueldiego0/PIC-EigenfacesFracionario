{
 "cells": [
  {
   "cell_type": "code",
   "execution_count": 118,
   "metadata": {},
   "outputs": [],
   "source": [
    "import glob\n",
    "import imageio\n",
    "import numpy as np\n",
    "import matplotlib.pyplot as plt\n",
    "import cv2\n",
    "from sklearn.neighbors import KNeighborsClassifier\n",
    "from sklearn.model_selection import train_test_split\n",
    "\n",
    "%matplotlib inline\n",
    "\n",
    "HOLDOUT = 10\n",
    "R = 0.01"
   ]
  },
  {
   "cell_type": "code",
   "execution_count": 119,
   "metadata": {},
   "outputs": [
    {
     "data": {
      "text/plain": [
       "'C:\\\\Users\\\\Emanuel\\\\Downloads\\\\PIC-Eigenfaces Fracionário'"
      ]
     },
     "execution_count": 119,
     "metadata": {},
     "output_type": "execute_result"
    }
   ],
   "source": [
    "os.chdir(\"C:\\\\Users\\\\Emanuel\\\\Downloads\\\\PIC-Eigenfaces Fracionário\\\\\")\n",
    "os.getcwd()"
   ]
  },
  {
   "cell_type": "code",
   "execution_count": 138,
   "metadata": {},
   "outputs": [],
   "source": [
    "files = glob.glob(\"databases/yalefaces/*\")\n",
    "images_yale = [np.array(imageio.mimread(file))[0] for file in files]\n",
    "images_yale_resized = [cv2.resize(image, dsize=(28, 23), interpolation=cv2.INTER_CUBIC) for image in images_yale]\n",
    "images_yale_resized = np.array(images_yale_resized)\n",
    "images_yale_flatten = [image.flatten() for image in images_yale_resized]\n",
    "images_yale_flatten = np.array(images_yale_flatten)"
   ]
  },
  {
   "cell_type": "code",
   "execution_count": 139,
   "metadata": {},
   "outputs": [],
   "source": [
    "Y = [f.split('.')[0] for f in files]"
   ]
  },
  {
   "cell_type": "code",
   "execution_count": 180,
   "metadata": {},
   "outputs": [],
   "source": [
    "def FPCA(X, r, k):\n",
    "    X = [np.power(x, r) for x in X]\n",
    "    X = np.array(X)\n",
    "    mean_vector = np.mean(X.T, axis = 1)                #cria o vetor medio\n",
    "    centered_matrix = X - mean_vector                   #cria a matriz de diferencas entre os data points e o vetor medio\n",
    "    centered_matrix = centered_matrix.astype(None)\n",
    "    cov_matrix = np.cov(centered_matrix.T)              #matriz de covariancia\n",
    "    values, vectors = np.linalg.eig(cov_matrix)         #autovalores e autovetores\n",
    "    return np.real(vectors.T.dot(centered_matrix.T).T)[:,:k]"
   ]
  },
  {
   "cell_type": "code",
   "execution_count": 185,
   "metadata": {},
   "outputs": [],
   "source": [
    "def AvaliarClassificadores(X, Y):\n",
    "    scores_1nn = []\n",
    "    \n",
    "    for i in range(HOLDOUT):\n",
    "        X_train, X_test, y_train, y_test = train_test_split(X, Y, test_size=0.5, random_state=0)\n",
    "        clf_1nn = KNeighborsClassifier(n_neighbors=1).fit(X_train, y_train)\n",
    "        scores_1nn.append(clf_1nn.score(X_test, y_test))\n",
    "\n",
    "    scores_1nn = np.array(scores_1nn).mean() * 100\n",
    "    return scores_1nn"
   ]
  },
  {
   "cell_type": "code",
   "execution_count": 187,
   "metadata": {},
   "outputs": [],
   "source": [
    "acc_yale = []\n",
    "for n in range(1, 71):\n",
    "    X_ = FPCA(images_yale_flatten, R, n)\n",
    "    s = AvaliarClassificadores(X_, Y)\n",
    "    acc_yale.append(s)"
   ]
  },
  {
   "cell_type": "code",
   "execution_count": 188,
   "metadata": {},
   "outputs": [
    {
     "data": {
      "image/png": "[encoded data removed]",
      "text/plain": [
       "<matplotlib.figure.Figure at 0x146c221b358>"
      ]
     },
     "metadata": {},
     "output_type": "display_data"
    }
   ],
   "source": [
    "x = np.arange(1, 71)\n",
    "plt.title(\"Yale Faces - FPCA - 1-NN\")\n",
    "plt.plot(x, acc_yale, color='green')\n",
    "plt.ylabel('Acuracia media')\n",
    "plt.xlabel('Numero de componentes')\n",
    "plt.grid()\n",
    "plt.show()"
   ]
  },
  {
   "cell_type": "code",
   "execution_count": null,
   "metadata": {},
   "outputs": [],
   "source": []
  }
 ],
 "metadata": {
  "kernelspec": {
   "display_name": "Python 3",
   "language": "python",
   "name": "python3"
  },
  "language_info": {
   "codemirror_mode": {
    "name": "ipython",
    "version": 3
   },
   "file_extension": ".py",
   "mimetype": "text/x-python",
   "name": "python",
   "nbconvert_exporter": "python",
   "pygments_lexer": "ipython3",
   "version": "3.6.4"
  }
 },
 "nbformat": 4,
 "nbformat_minor": 2
}
