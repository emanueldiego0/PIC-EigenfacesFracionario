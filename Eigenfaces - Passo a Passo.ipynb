{
 "cells": [
  {
   "cell_type": "code",
   "execution_count": 175,
   "metadata": {},
   "outputs": [],
   "source": [
    "import matplotlib.pyplot as plt\n",
    "import numpy as np\n",
    "%matplotlib inline"
   ]
  },
  {
   "cell_type": "code",
   "execution_count": 188,
   "metadata": {},
   "outputs": [
    {
     "data": {
      "text/plain": [
       "(10, 2)"
      ]
     },
     "execution_count": 188,
     "metadata": {},
     "output_type": "execute_result"
    }
   ],
   "source": [
    "datatoy = np.array([[2.5, 2.4],\n",
    "                    [0.5, 0.7],\n",
    "                    [2.2, 2.9],\n",
    "                    [1.9, 2.2],\n",
    "                    [3.1, 3.0],\n",
    "                    [2.3, 2.7],\n",
    "                    [2.0, 1.6],\n",
    "                    [1.0, 1.1],\n",
    "                    [1.5, 1.6],\n",
    "                    [1.1, 0.9]])\n",
    "datatoy.shape"
   ]
  },
  {
   "cell_type": "code",
   "execution_count": 189,
   "metadata": {},
   "outputs": [
    {
     "name": "stdout",
     "output_type": "stream",
     "text": [
      "(2, 10)\n"
     ]
    }
   ],
   "source": [
    "datatoy = datatoy.T\n",
    "print(datatoy.shape)"
   ]
  },
  {
   "cell_type": "code",
   "execution_count": 190,
   "metadata": {},
   "outputs": [],
   "source": [
    "mean_vector = np.mean(datatoy.T, axis=1)\n",
    "centered_matrix = datatoy - mean_vector"
   ]
  },
  {
   "cell_type": "code",
   "execution_count": 195,
   "metadata": {},
   "outputs": [],
   "source": [
    "D = centered_matrix.dot(centered_matrix.T)\n",
    "C = centered_matrix.T.dot(centered_matrix)\n",
    "escalar = 1./(len(datatoy) + 1)\n",
    "D = escalar * D\n",
    "C = escalar * C"
   ]
  },
  {
   "cell_type": "code",
   "execution_count": 196,
   "metadata": {},
   "outputs": [
    {
     "name": "stdout",
     "output_type": "stream",
     "text": [
      "n x n -> (2, 2)\n",
      "m x m -> (10, 10)\n"
     ]
    }
   ],
   "source": [
    "print(\"n x n -> \"+str(D.shape))\n",
    "print(\"m x m -> \"+str(C.shape))"
   ]
  },
  {
   "cell_type": "code",
   "execution_count": 197,
   "metadata": {},
   "outputs": [],
   "source": [
    "values_D, vectors_D = np.linalg.eig(D)         #autovalores e autovetores\n",
    "values_C, vectors_C = np.linalg.eig(D)         #autovalores e autovetores\n",
    "values_D = np.real(values_D)\n",
    "vectors_D = np.real(vectors_D)\n",
    "values_C = np.real(values_C)\n",
    "vectors_C = np.real(vectors_C)"
   ]
  },
  {
   "cell_type": "code",
   "execution_count": 198,
   "metadata": {},
   "outputs": [
    {
     "name": "stdout",
     "output_type": "stream",
     "text": [
      "[2.77555756e-17 1.70000000e-01]\n"
     ]
    }
   ],
   "source": [
    "n = len(datatoy)\n",
    "values_D = np.abs(values_D)\n",
    "a = 1. / np.power((n * values_D), 0.5)\n",
    "print(values_D)\n",
    "vectors_C_ = a * centered_matrix.T.dot(vectors_D)"
   ]
  },
  {
   "cell_type": "code",
   "execution_count": 199,
   "metadata": {},
   "outputs": [
    {
     "data": {
      "text/plain": [
       "(2, 2)"
      ]
     },
     "execution_count": 199,
     "metadata": {},
     "output_type": "execute_result"
    }
   ],
   "source": [
    "vectors_C.shape"
   ]
  },
  {
   "cell_type": "code",
   "execution_count": 200,
   "metadata": {},
   "outputs": [
    {
     "data": {
      "text/plain": [
       "array([[-0.70710678,  0.70710678],\n",
       "       [-0.70710678, -0.70710678]])"
      ]
     },
     "execution_count": 200,
     "metadata": {},
     "output_type": "execute_result"
    }
   ],
   "source": [
    "vectors_C"
   ]
  },
  {
   "cell_type": "code",
   "execution_count": 201,
   "metadata": {},
   "outputs": [
    {
     "data": {
      "text/plain": [
       "array([[ 3.91155481e-08,  1.21267813e-01],\n",
       "       [ 5.58793545e-09, -2.42535625e-01],\n",
       "       [-2.23517418e-08, -8.48874688e-01],\n",
       "       [-3.35276127e-08, -3.63803438e-01],\n",
       "       [-4.47034836e-08,  1.21267813e-01],\n",
       "       [ 1.49011612e-08, -4.85071250e-01],\n",
       "       [-1.11758709e-08,  4.85071250e-01],\n",
       "       [ 3.72529030e-09, -1.21267813e-01],\n",
       "       [ 3.72529030e-09, -1.21267813e-01],\n",
       "       [-1.67638063e-08,  2.42535625e-01]])"
      ]
     },
     "execution_count": 201,
     "metadata": {},
     "output_type": "execute_result"
    }
   ],
   "source": [
    "vectors_C_"
   ]
  },
  {
   "cell_type": "code",
   "execution_count": null,
   "metadata": {},
   "outputs": [],
   "source": []
  }
 ],
 "metadata": {
  "kernelspec": {
   "display_name": "Python 3",
   "language": "python",
   "name": "python3"
  },
  "language_info": {
   "codemirror_mode": {
    "name": "ipython",
    "version": 3
   },
   "file_extension": ".py",
   "mimetype": "text/x-python",
   "name": "python",
   "nbconvert_exporter": "python",
   "pygments_lexer": "ipython3",
   "version": "3.6.5"
  }
 },
 "nbformat": 4,
 "nbformat_minor": 2
}
